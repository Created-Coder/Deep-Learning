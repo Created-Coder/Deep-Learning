{
 "cells": [
  {
   "cell_type": "code",
   "execution_count": 1,
   "metadata": {},
   "outputs": [],
   "source": [
    "train_dir = \"C:/Users/Salman/Desktop/Desktop/3rd Quarter Books/WorkingDirectory/train\"\n",
    "validation_dir = \"C:/Users/Salman/Desktop/Desktop/3rd Quarter Books/WorkingDirectory/validation\"\n",
    "test_dir = \"C:/Users/Salman/Desktop/Desktop/3rd Quarter Books/WorkingDirectory/test\"\n"
   ]
  },
  {
   "cell_type": "code",
   "execution_count": 2,
   "metadata": {},
   "outputs": [
    {
     "name": "stdout",
     "output_type": "stream",
     "text": [
      "WARNING:tensorflow:From C:\\Users\\Salman\\AppData\\Local\\Continuum\\anaconda3\\lib\\site-packages\\tensorflow\\python\\ops\\init_ops.py:1251: calling VarianceScaling.__init__ (from tensorflow.python.ops.init_ops) with dtype is deprecated and will be removed in a future version.\n",
      "Instructions for updating:\n",
      "Call initializer instance with the dtype argument instead of passing it to the constructor\n"
     ]
    }
   ],
   "source": [
    "from tensorflow.keras import layers\n",
    "from tensorflow.keras import models\n",
    "model = models.Sequential()\n",
    "model.add(layers.Conv2D(32, (3, 3), activation='relu',\n",
    "input_shape=(150, 150, 3)))\n",
    "model.add(layers.MaxPooling2D((2, 2)))\n",
    "model.add(layers.Conv2D(64, (3, 3), activation='relu'))\n",
    "model.add(layers.MaxPooling2D((2, 2)))\n",
    "model.add(layers.Conv2D(128, (3, 3), activation='relu'))\n",
    "model.add(layers.MaxPooling2D((2, 2)))\n",
    "model.add(layers.Conv2D(128, (3, 3), activation='relu'))\n",
    "model.add(layers.MaxPooling2D((2, 2)))\n",
    "model.add(layers.Flatten())\n",
    "model.add(layers.Dense(512, activation='relu'))\n",
    "model.add(layers.Dense(1, activation='sigmoid'))"
   ]
  },
  {
   "cell_type": "code",
   "execution_count": 3,
   "metadata": {},
   "outputs": [
    {
     "name": "stdout",
     "output_type": "stream",
     "text": [
      "WARNING:tensorflow:From C:\\Users\\Salman\\AppData\\Local\\Continuum\\anaconda3\\lib\\site-packages\\tensorflow\\python\\ops\\nn_impl.py:180: add_dispatch_support.<locals>.wrapper (from tensorflow.python.ops.array_ops) is deprecated and will be removed in a future version.\n",
      "Instructions for updating:\n",
      "Use tf.where in 2.0, which has the same broadcast rule as np.where\n"
     ]
    }
   ],
   "source": [
    "from tensorflow.keras import optimizers\n",
    "model.compile(loss='binary_crossentropy',\n",
    "optimizer=optimizers.RMSprop(lr=1e-4),\n",
    "metrics=['acc'])"
   ]
  },
  {
   "cell_type": "code",
   "execution_count": 4,
   "metadata": {},
   "outputs": [],
   "source": [
    "from tensorflow.keras.preprocessing.image import ImageDataGenerator\n",
    "train_datagen = ImageDataGenerator(rescale=1./255)\n",
    "test_datagen = ImageDataGenerator(rescale=1./255)"
   ]
  },
  {
   "cell_type": "code",
   "execution_count": 5,
   "metadata": {},
   "outputs": [
    {
     "name": "stdout",
     "output_type": "stream",
     "text": [
      "Found 2000 images belonging to 2 classes.\n"
     ]
    }
   ],
   "source": [
    "train_generator = train_datagen.flow_from_directory(\n",
    "                    train_dir,\n",
    "                    target_size=(150, 150),\n",
    "                    batch_size=20,\n",
    "                    class_mode='binary')"
   ]
  },
  {
   "cell_type": "code",
   "execution_count": 6,
   "metadata": {},
   "outputs": [
    {
     "name": "stdout",
     "output_type": "stream",
     "text": [
      "Found 1000 images belonging to 2 classes.\n"
     ]
    }
   ],
   "source": [
    "validation_generator = test_datagen.flow_from_directory(\n",
    "                        validation_dir,\n",
    "                        target_size=(150,150),\n",
    "                        batch_size=20,\n",
    "                        class_mode=\"binary\"\n",
    "\n",
    "\n",
    ")"
   ]
  },
  {
   "cell_type": "code",
   "execution_count": 7,
   "metadata": {},
   "outputs": [
    {
     "name": "stdout",
     "output_type": "stream",
     "text": [
      "Epoch 1/30\n",
      "100/100 [==============================] - 394s 4s/step - loss: 0.6905 - acc: 0.5320 - val_loss: 0.6769 - val_acc: 0.5900\n",
      "Epoch 2/30\n",
      "100/100 [==============================] - 395s 4s/step - loss: 0.6632 - acc: 0.6110 - val_loss: 0.6529 - val_acc: 0.6040\n",
      "Epoch 3/30\n",
      "100/100 [==============================] - 396s 4s/step - loss: 0.6144 - acc: 0.6600 - val_loss: 0.6544 - val_acc: 0.6250\n",
      "Epoch 4/30\n",
      "100/100 [==============================] - 408s 4s/step - loss: 0.5715 - acc: 0.6995 - val_loss: 0.6122 - val_acc: 0.6590\n",
      "Epoch 5/30\n",
      "100/100 [==============================] - 399s 4s/step - loss: 0.5424 - acc: 0.7185 - val_loss: 0.5737 - val_acc: 0.6990\n",
      "Epoch 6/30\n",
      "100/100 [==============================] - 393s 4s/step - loss: 0.5258 - acc: 0.7380 - val_loss: 0.5739 - val_acc: 0.6910\n",
      "Epoch 7/30\n",
      "100/100 [==============================] - 398s 4s/step - loss: 0.4920 - acc: 0.7585 - val_loss: 0.5638 - val_acc: 0.7060\n",
      "Epoch 8/30\n",
      "100/100 [==============================] - 403s 4s/step - loss: 0.4769 - acc: 0.7625 - val_loss: 0.5682 - val_acc: 0.6980\n",
      "Epoch 9/30\n",
      "100/100 [==============================] - 396s 4s/step - loss: 0.4432 - acc: 0.7915 - val_loss: 0.5540 - val_acc: 0.7090\n",
      "Epoch 10/30\n",
      "100/100 [==============================] - 388s 4s/step - loss: 0.4191 - acc: 0.8205 - val_loss: 0.5847 - val_acc: 0.7070\n",
      "Epoch 11/30\n",
      "100/100 [==============================] - 393s 4s/step - loss: 0.3987 - acc: 0.8230 - val_loss: 0.6244 - val_acc: 0.6720\n",
      "Epoch 12/30\n",
      "100/100 [==============================] - 398s 4s/step - loss: 0.3797 - acc: 0.8230 - val_loss: 0.5521 - val_acc: 0.7200\n",
      "Epoch 13/30\n",
      "100/100 [==============================] - 397s 4s/step - loss: 0.3487 - acc: 0.8435 - val_loss: 0.5500 - val_acc: 0.7250\n",
      "Epoch 14/30\n",
      "100/100 [==============================] - 397s 4s/step - loss: 0.3324 - acc: 0.8585 - val_loss: 0.5745 - val_acc: 0.7330\n",
      "Epoch 15/30\n",
      "100/100 [==============================] - 402s 4s/step - loss: 0.3127 - acc: 0.8710 - val_loss: 0.5649 - val_acc: 0.7300\n",
      "Epoch 16/30\n",
      "100/100 [==============================] - 400s 4s/step - loss: 0.2850 - acc: 0.8790 - val_loss: 0.5798 - val_acc: 0.7240\n",
      "Epoch 17/30\n",
      "100/100 [==============================] - 396s 4s/step - loss: 0.2712 - acc: 0.8930 - val_loss: 0.5970 - val_acc: 0.7280\n",
      "Epoch 18/30\n",
      "100/100 [==============================] - 398s 4s/step - loss: 0.2434 - acc: 0.9030 - val_loss: 0.6368 - val_acc: 0.7220\n",
      "Epoch 19/30\n",
      "100/100 [==============================] - 391s 4s/step - loss: 0.2260 - acc: 0.9140 - val_loss: 0.6618 - val_acc: 0.7090\n",
      "Epoch 20/30\n",
      "100/100 [==============================] - 60324s 603s/step - loss: 0.1993 - acc: 0.9300 - val_loss: 0.6813 - val_acc: 0.7280\n",
      "Epoch 21/30\n",
      "100/100 [==============================] - 358s 4s/step - loss: 0.1941 - acc: 0.9280 - val_loss: 0.6272 - val_acc: 0.7350\n",
      "Epoch 22/30\n",
      "100/100 [==============================] - 361s 4s/step - loss: 0.1614 - acc: 0.9490 - val_loss: 0.7057 - val_acc: 0.7290\n",
      "Epoch 23/30\n",
      "100/100 [==============================] - 351s 4s/step - loss: 0.1469 - acc: 0.9450 - val_loss: 0.6996 - val_acc: 0.7350\n",
      "Epoch 24/30\n",
      "100/100 [==============================] - 382s 4s/step - loss: 0.1339 - acc: 0.9525 - val_loss: 0.7445 - val_acc: 0.7350\n",
      "Epoch 25/30\n",
      "100/100 [==============================] - 364s 4s/step - loss: 0.1144 - acc: 0.9615 - val_loss: 0.7945 - val_acc: 0.7310\n",
      "Epoch 26/30\n",
      "100/100 [==============================] - 345s 3s/step - loss: 0.1065 - acc: 0.9670 - val_loss: 0.8102 - val_acc: 0.7010\n",
      "Epoch 27/30\n",
      "100/100 [==============================] - 339s 3s/step - loss: 0.0883 - acc: 0.9750 - val_loss: 0.8131 - val_acc: 0.7290\n",
      "Epoch 28/30\n",
      "100/100 [==============================] - 345s 3s/step - loss: 0.0762 - acc: 0.9780 - val_loss: 0.9618 - val_acc: 0.7100\n",
      "Epoch 29/30\n",
      "100/100 [==============================] - 349s 3s/step - loss: 0.0671 - acc: 0.9825 - val_loss: 0.9956 - val_acc: 0.7260\n",
      "Epoch 30/30\n",
      "100/100 [==============================] - 335s 3s/step - loss: 0.0537 - acc: 0.9875 - val_loss: 0.9800 - val_acc: 0.7230\n"
     ]
    }
   ],
   "source": [
    "history = model.fit_generator(\n",
    "train_generator,\n",
    "steps_per_epoch=100,\n",
    "epochs=30,\n",
    "validation_data=validation_generator,\n",
    "validation_steps=50)"
   ]
  },
  {
   "cell_type": "markdown",
   "metadata": {},
   "source": [
    "# Acheive 72% Accuracy without any techniques of regularization"
   ]
  },
  {
   "cell_type": "code",
   "execution_count": 8,
   "metadata": {},
   "outputs": [],
   "source": [
    "model.save(\"Dog&Cat_without_techniques.h5\")"
   ]
  },
  {
   "cell_type": "code",
   "execution_count": null,
   "metadata": {},
   "outputs": [],
   "source": []
  }
 ],
 "metadata": {
  "kernelspec": {
   "display_name": "Python 3",
   "language": "python",
   "name": "python3"
  },
  "language_info": {
   "codemirror_mode": {
    "name": "ipython",
    "version": 3
   },
   "file_extension": ".py",
   "mimetype": "text/x-python",
   "name": "python",
   "nbconvert_exporter": "python",
   "pygments_lexer": "ipython3",
   "version": "3.7.3"
  }
 },
 "nbformat": 4,
 "nbformat_minor": 2
}
