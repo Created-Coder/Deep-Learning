{
 "cells": [
  {
   "cell_type": "markdown",
   "metadata": {},
   "source": [
    "# MultiClass Example"
   ]
  },
  {
   "cell_type": "code",
   "execution_count": 4,
   "metadata": {},
   "outputs": [],
   "source": [
    "from tensorflow.keras.datasets import reuters\n",
    "(train_data, train_labels), (test_data, test_labels) = reuters.load_data(\n",
    "num_words=10000)"
   ]
  },
  {
   "cell_type": "code",
   "execution_count": 5,
   "metadata": {},
   "outputs": [
    {
     "data": {
      "text/plain": [
       "8982"
      ]
     },
     "execution_count": 5,
     "metadata": {},
     "output_type": "execute_result"
    }
   ],
   "source": [
    "len(train_data)"
   ]
  },
  {
   "cell_type": "code",
   "execution_count": 6,
   "metadata": {},
   "outputs": [
    {
     "data": {
      "text/plain": [
       "2246"
      ]
     },
     "execution_count": 6,
     "metadata": {},
     "output_type": "execute_result"
    }
   ],
   "source": [
    "len(test_data)"
   ]
  },
  {
   "cell_type": "code",
   "execution_count": 7,
   "metadata": {},
   "outputs": [],
   "source": [
    "import numpy as np\n",
    "def vectorize_sequences(sequences, dimension=10000):\n",
    "    results = np.zeros((len(sequences), dimension))\n",
    "    for i, sequence in enumerate(sequences):\n",
    "        results[i, sequence] = 1.\n",
    "    return results"
   ]
  },
  {
   "cell_type": "code",
   "execution_count": 8,
   "metadata": {},
   "outputs": [],
   "source": [
    "x_train = vectorize_sequences(train_data)\n",
    "x_test = vectorize_sequences(test_data)"
   ]
  },
  {
   "cell_type": "code",
   "execution_count": 9,
   "metadata": {},
   "outputs": [],
   "source": [
    "def to_one_hot(labels, dimension=46):\n",
    "    results = np.zeros((len(labels), dimension))\n",
    "    for i, label in enumerate(labels):\n",
    "        results[i, label] = 1.\n",
    "    return results"
   ]
  },
  {
   "cell_type": "code",
   "execution_count": 10,
   "metadata": {},
   "outputs": [],
   "source": [
    "one_hot_train_labels = to_one_hot(train_labels)\n",
    "one_hot_test_labels = to_one_hot(test_labels)\n"
   ]
  },
  {
   "cell_type": "code",
   "execution_count": 20,
   "metadata": {},
   "outputs": [],
   "source": [
    "from tensorflow.keras import models\n",
    "from tensorflow.keras import layers\n",
    "model = models.Sequential()\n",
    "model.add(layers.Dense(4, activation='relu', input_shape=(10000,)))\n",
    "model.add(layers.Dense(4, activation='relu'))\n",
    "model.add(layers.Dense(46, activation='softmax'))"
   ]
  },
  {
   "cell_type": "code",
   "execution_count": 21,
   "metadata": {},
   "outputs": [],
   "source": [
    "model.compile(optimizer='rmsprop',\n",
    "loss='categorical_crossentropy',\n",
    "metrics=['accuracy'])"
   ]
  },
  {
   "cell_type": "code",
   "execution_count": 22,
   "metadata": {},
   "outputs": [],
   "source": [
    "x_val = x_train[:1000]\n",
    "partial_x_train = x_train[1000:]\n",
    "y_val = one_hot_train_labels[:1000]\n",
    "partial_y_train = one_hot_train_labels[1000:]"
   ]
  },
  {
   "cell_type": "code",
   "execution_count": 23,
   "metadata": {},
   "outputs": [
    {
     "name": "stdout",
     "output_type": "stream",
     "text": [
      "Train on 7982 samples, validate on 1000 samples\n",
      "Epoch 1/20\n",
      "7982/7982 [==============================] - 2s 275us/sample - loss: 3.7606 - acc: 0.2032 - val_loss: 3.6830 - val_acc: 0.2180\n",
      "Epoch 2/20\n",
      "7982/7982 [==============================] - 2s 254us/sample - loss: 3.6161 - acc: 0.2244 - val_loss: 3.5405 - val_acc: 0.2330\n",
      "Epoch 3/20\n",
      "7982/7982 [==============================] - 2s 233us/sample - loss: 3.4595 - acc: 0.2565 - val_loss: 3.3810 - val_acc: 0.2620\n",
      "Epoch 4/20\n",
      "7982/7982 [==============================] - 2s 241us/sample - loss: 3.2872 - acc: 0.2736 - val_loss: 3.2118 - val_acc: 0.2680\n",
      "Epoch 5/20\n",
      "7982/7982 [==============================] - 2s 245us/sample - loss: 3.1068 - acc: 0.2730 - val_loss: 3.0418 - val_acc: 0.2760\n",
      "Epoch 6/20\n",
      "7982/7982 [==============================] - 2s 234us/sample - loss: 2.9283 - acc: 0.2757 - val_loss: 2.8740 - val_acc: 0.2710\n",
      "Epoch 7/20\n",
      "7982/7982 [==============================] - 2s 253us/sample - loss: 2.7566 - acc: 0.2752 - val_loss: 2.7174 - val_acc: 0.2680\n",
      "Epoch 8/20\n",
      "7982/7982 [==============================] - 2s 237us/sample - loss: 2.5938 - acc: 0.2731 - val_loss: 2.5668 - val_acc: 0.2640\n",
      "Epoch 9/20\n",
      "7982/7982 [==============================] - 2s 249us/sample - loss: 2.4400 - acc: 0.2724 - val_loss: 2.4283 - val_acc: 0.2680\n",
      "Epoch 10/20\n",
      "7982/7982 [==============================] - 2s 247us/sample - loss: 2.3005 - acc: 0.2751 - val_loss: 2.3042 - val_acc: 0.2690\n",
      "Epoch 11/20\n",
      "7982/7982 [==============================] - 2s 235us/sample - loss: 2.1727 - acc: 0.2790 - val_loss: 2.1911 - val_acc: 0.2740\n",
      "Epoch 12/20\n",
      "7982/7982 [==============================] - 2s 251us/sample - loss: 2.0548 - acc: 0.4322 - val_loss: 2.0882 - val_acc: 0.5610\n",
      "Epoch 13/20\n",
      "7982/7982 [==============================] - 2s 235us/sample - loss: 1.9474 - acc: 0.5886 - val_loss: 1.9971 - val_acc: 0.5930\n",
      "Epoch 14/20\n",
      "7982/7982 [==============================] - 2s 237us/sample - loss: 1.8511 - acc: 0.6221 - val_loss: 1.9163 - val_acc: 0.6040\n",
      "Epoch 15/20\n",
      "7982/7982 [==============================] - 2s 238us/sample - loss: 1.7651 - acc: 0.6376 - val_loss: 1.8457 - val_acc: 0.6100\n",
      "Epoch 16/20\n",
      "7982/7982 [==============================] - 2s 275us/sample - loss: 1.6888 - acc: 0.6460 - val_loss: 1.7838 - val_acc: 0.6120\n",
      "Epoch 17/20\n",
      "7982/7982 [==============================] - 2s 236us/sample - loss: 1.6210 - acc: 0.6500 - val_loss: 1.7302 - val_acc: 0.6160\n",
      "Epoch 18/20\n",
      "7982/7982 [==============================] - 2s 255us/sample - loss: 1.5609 - acc: 0.6528 - val_loss: 1.6830 - val_acc: 0.6250\n",
      "Epoch 19/20\n",
      "7982/7982 [==============================] - 2s 246us/sample - loss: 1.5075 - acc: 0.6552 - val_loss: 1.6439 - val_acc: 0.6270\n",
      "Epoch 20/20\n",
      "7982/7982 [==============================] - 2s 239us/sample - loss: 1.4597 - acc: 0.6569 - val_loss: 1.6086 - val_acc: 0.6350\n"
     ]
    }
   ],
   "source": [
    "history = model.fit(partial_x_train,\n",
    "                    partial_y_train,\n",
    "                    epochs=20,\n",
    "                    batch_size=512,\n",
    "                    validation_data=(x_val, y_val))"
   ]
  },
  {
   "cell_type": "markdown",
   "metadata": {},
   "source": [
    "# Model with 64 neurons"
   ]
  },
  {
   "cell_type": "code",
   "execution_count": 16,
   "metadata": {},
   "outputs": [
    {
     "name": "stdout",
     "output_type": "stream",
     "text": [
      "Train on 7982 samples, validate on 1000 samples\n",
      "Epoch 1/9\n",
      "7982/7982 [==============================] - 2s 295us/sample - loss: 2.7886 - acc: 0.4753 - val_loss: 1.8756 - val_acc: 0.6260\n",
      "Epoch 2/9\n",
      "7982/7982 [==============================] - 2s 247us/sample - loss: 1.4904 - acc: 0.6891 - val_loss: 1.3613 - val_acc: 0.6990\n",
      "Epoch 3/9\n",
      "7982/7982 [==============================] - 2s 244us/sample - loss: 1.0949 - acc: 0.7621 - val_loss: 1.1735 - val_acc: 0.7410\n",
      "Epoch 4/9\n",
      "7982/7982 [==============================] - 2s 241us/sample - loss: 0.8646 - acc: 0.8180 - val_loss: 1.0639 - val_acc: 0.7800\n",
      "Epoch 5/9\n",
      "7982/7982 [==============================] - 2s 247us/sample - loss: 0.6972 - acc: 0.8537 - val_loss: 0.9981 - val_acc: 0.7880\n",
      "Epoch 6/9\n",
      "7982/7982 [==============================] - 2s 247us/sample - loss: 0.5664 - acc: 0.8842 - val_loss: 0.9391 - val_acc: 0.8040\n",
      "Epoch 7/9\n",
      "7982/7982 [==============================] - 2s 241us/sample - loss: 0.4562 - acc: 0.9045 - val_loss: 0.9297 - val_acc: 0.8060\n",
      "Epoch 8/9\n",
      "7982/7982 [==============================] - 2s 246us/sample - loss: 0.3784 - acc: 0.9192 - val_loss: 0.9050 - val_acc: 0.8150\n",
      "Epoch 9/9\n",
      "7982/7982 [==============================] - 2s 248us/sample - loss: 0.3090 - acc: 0.9346 - val_loss: 0.9106 - val_acc: 0.8170\n"
     ]
    },
    {
     "data": {
      "text/plain": [
       "<tensorflow.python.keras.callbacks.History at 0x20d0c111da0>"
      ]
     },
     "execution_count": 16,
     "metadata": {},
     "output_type": "execute_result"
    }
   ],
   "source": [
    "model = models.Sequential()\n",
    "model.add(layers.Dense(64, activation='relu', input_shape=(10000,)))\n",
    "model.add(layers.Dense(64, activation='relu'))\n",
    "model.add(layers.Dense(46, activation='softmax'))\n",
    "model.compile(optimizer='rmsprop',\n",
    "loss='categorical_crossentropy',\n",
    "metrics=['accuracy'])\n",
    "model.fit(partial_x_train,\n",
    "partial_y_train,\n",
    "epochs=9,\n",
    "batch_size=512,\n",
    "validation_data=(x_val, y_val))\n"
   ]
  },
  {
   "cell_type": "code",
   "execution_count": 17,
   "metadata": {},
   "outputs": [
    {
     "name": "stdout",
     "output_type": "stream",
     "text": [
      "2246/2246 [==============================] - 1s 251us/sample - loss: 0.9868 - acc: 0.7850\n"
     ]
    }
   ],
   "source": [
    "results = model.evaluate(x_test, one_hot_test_labels)  # overfitting 15%"
   ]
  },
  {
   "cell_type": "code",
   "execution_count": 18,
   "metadata": {},
   "outputs": [
    {
     "data": {
      "text/plain": [
       "[0.9625786327402823, 0.7902939]"
      ]
     },
     "execution_count": 18,
     "metadata": {},
     "output_type": "execute_result"
    }
   ],
   "source": [
    "results"
   ]
  },
  {
   "cell_type": "markdown",
   "metadata": {},
   "source": [
    "# Model with 32 neurons"
   ]
  },
  {
   "cell_type": "code",
   "execution_count": 47,
   "metadata": {},
   "outputs": [
    {
     "name": "stdout",
     "output_type": "stream",
     "text": [
      "Train on 7982 samples, validate on 1000 samples\n",
      "Epoch 1/9\n",
      "7982/7982 [==============================] - 3s 357us/sample - loss: 3.2594 - acc: 0.4181 - val_loss: 2.6003 - val_acc: 0.6180\n",
      "Epoch 2/9\n",
      "7982/7982 [==============================] - 2s 198us/sample - loss: 2.1303 - acc: 0.6473 - val_loss: 1.8300 - val_acc: 0.6500\n",
      "Epoch 3/9\n",
      "7982/7982 [==============================] - 2s 198us/sample - loss: 1.5348 - acc: 0.7092 - val_loss: 1.4625 - val_acc: 0.6950\n",
      "Epoch 4/9\n",
      "7982/7982 [==============================] - 2s 208us/sample - loss: 1.2232 - acc: 0.7532 - val_loss: 1.2761 - val_acc: 0.7190\n",
      "Epoch 5/9\n",
      "7982/7982 [==============================] - 2s 205us/sample - loss: 1.0254 - acc: 0.7820 - val_loss: 1.1597 - val_acc: 0.7470\n",
      "Epoch 6/9\n",
      "7982/7982 [==============================] - 2s 207us/sample - loss: 0.8779 - acc: 0.8044 - val_loss: 1.0914 - val_acc: 0.7530\n",
      "Epoch 7/9\n",
      "7982/7982 [==============================] - 2s 228us/sample - loss: 0.7589 - acc: 0.8290 - val_loss: 1.0433 - val_acc: 0.7630\n",
      "Epoch 8/9\n",
      "7982/7982 [==============================] - 2s 203us/sample - loss: 0.6574 - acc: 0.8549 - val_loss: 0.9939 - val_acc: 0.7860\n",
      "Epoch 9/9\n",
      "7982/7982 [==============================] - 2s 204us/sample - loss: 0.5650 - acc: 0.8767 - val_loss: 0.9786 - val_acc: 0.7860\n"
     ]
    },
    {
     "data": {
      "text/plain": [
       "<tensorflow.python.keras.callbacks.History at 0x20d6f95be10>"
      ]
     },
     "execution_count": 47,
     "metadata": {},
     "output_type": "execute_result"
    }
   ],
   "source": [
    "model = models.Sequential()\n",
    "model.add(layers.Dense(32, activation='relu', input_shape=(10000,)))\n",
    "model.add(layers.Dense(32, activation='relu'))\n",
    "model.add(layers.Dense(46, activation='softmax'))\n",
    "model.compile(optimizer='rmsprop',\n",
    "loss='categorical_crossentropy',\n",
    "metrics=['accuracy'])\n",
    "model.fit(partial_x_train,\n",
    "partial_y_train,\n",
    "epochs=9,\n",
    "batch_size=512,\n",
    "validation_data=(x_val, y_val))"
   ]
  },
  {
   "cell_type": "code",
   "execution_count": 48,
   "metadata": {},
   "outputs": [
    {
     "name": "stdout",
     "output_type": "stream",
     "text": [
      "2246/2246 [==============================] - 0s 218us/sample - loss: 1.0602 - acc: 0.7636\n"
     ]
    }
   ],
   "source": [
    "results = model.evaluate(x_test, one_hot_test_labels)  # overfitting 11%"
   ]
  },
  {
   "cell_type": "markdown",
   "metadata": {},
   "source": [
    "# Model with 16 neurons"
   ]
  },
  {
   "cell_type": "code",
   "execution_count": 65,
   "metadata": {},
   "outputs": [
    {
     "name": "stdout",
     "output_type": "stream",
     "text": [
      "Train on 7982 samples, validate on 1000 samples\n",
      "Epoch 1/9\n",
      "7982/7982 [==============================] - 2s 283us/sample - loss: 3.4938 - acc: 0.3003 - val_loss: 3.1730 - val_acc: 0.4200\n",
      "Epoch 2/9\n",
      "7982/7982 [==============================] - 1s 183us/sample - loss: 2.8543 - acc: 0.4992 - val_loss: 2.6264 - val_acc: 0.5520\n",
      "Epoch 3/9\n",
      "7982/7982 [==============================] - 1s 182us/sample - loss: 2.3089 - acc: 0.6040 - val_loss: 2.1543 - val_acc: 0.6110\n",
      "Epoch 4/9\n",
      "7982/7982 [==============================] - 1s 186us/sample - loss: 1.8710 - acc: 0.6804 - val_loss: 1.7958 - val_acc: 0.6670\n",
      "Epoch 5/9\n",
      "7982/7982 [==============================] - 1s 184us/sample - loss: 1.5512 - acc: 0.7243 - val_loss: 1.5525 - val_acc: 0.7050\n",
      "Epoch 6/9\n",
      "7982/7982 [==============================] - 1s 181us/sample - loss: 1.3244 - acc: 0.7521 - val_loss: 1.3874 - val_acc: 0.7330\n",
      "Epoch 7/9\n",
      "7982/7982 [==============================] - 1s 185us/sample - loss: 1.1596 - acc: 0.7745 - val_loss: 1.2742 - val_acc: 0.7380\n",
      "Epoch 8/9\n",
      "7982/7982 [==============================] - 2s 193us/sample - loss: 1.0341 - acc: 0.7902 - val_loss: 1.1930 - val_acc: 0.7560\n",
      "Epoch 9/9\n",
      "7982/7982 [==============================] - 2s 194us/sample - loss: 0.9342 - acc: 0.8072 - val_loss: 1.1308 - val_acc: 0.7710\n"
     ]
    },
    {
     "data": {
      "text/plain": [
       "<tensorflow.python.keras.callbacks.History at 0x20d75ed5d30>"
      ]
     },
     "execution_count": 65,
     "metadata": {},
     "output_type": "execute_result"
    }
   ],
   "source": [
    "model = models.Sequential()\n",
    "model.add(layers.Dense(16, activation='relu', input_shape=(10000,)))\n",
    "#model.add(layers.Dense(16, activation='relu'))\n",
    "#model.add(layers.Dense(16, activation='relu'))\n",
    "model.add(layers.Dense(46, activation='softmax'))\n",
    "model.compile(optimizer='rmsprop',\n",
    "loss='categorical_crossentropy',\n",
    "metrics=['accuracy'])\n",
    "model.fit(partial_x_train,\n",
    "partial_y_train,\n",
    "epochs=9,\n",
    "batch_size=512,\n",
    "validation_data=(x_val, y_val))"
   ]
  },
  {
   "cell_type": "code",
   "execution_count": 66,
   "metadata": {},
   "outputs": [
    {
     "name": "stdout",
     "output_type": "stream",
     "text": [
      "2246/2246 [==============================] - 0s 218us/sample - loss: 1.2066 - acc: 0.7467\n"
     ]
    }
   ],
   "source": [
    "results = model.evaluate(x_test, one_hot_test_labels) #overfitting 5%"
   ]
  },
  {
   "cell_type": "code",
   "execution_count": null,
   "metadata": {},
   "outputs": [],
   "source": []
  }
 ],
 "metadata": {
  "kernelspec": {
   "display_name": "Python 3",
   "language": "python",
   "name": "python3"
  },
  "language_info": {
   "codemirror_mode": {
    "name": "ipython",
    "version": 3
   },
   "file_extension": ".py",
   "mimetype": "text/x-python",
   "name": "python",
   "nbconvert_exporter": "python",
   "pygments_lexer": "ipython3",
   "version": "3.7.3"
  }
 },
 "nbformat": 4,
 "nbformat_minor": 2
}
