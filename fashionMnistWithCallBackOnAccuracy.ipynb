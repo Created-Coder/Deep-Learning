{
 "cells": [
  {
   "cell_type": "code",
   "execution_count": 3,
   "metadata": {
    "colab": {
     "base_uri": "https://localhost:8080/",
     "height": 385
    },
    "colab_type": "code",
    "executionInfo": {
     "elapsed": 14483,
     "status": "ok",
     "timestamp": 1575720419902,
     "user": {
      "displayName": "Agha Nasir Hussain",
      "photoUrl": "https://lh3.googleusercontent.com/a-/AAuE7mB_sTUSduEc9r93gzm5R-i-5CgK5y0VIM2Imu4h=s64",
      "userId": "12080318097281941003"
     },
     "user_tz": -300
    },
    "id": "N9-BCmi15L93",
    "outputId": "6fe122d2-0167-44f1-a410-6e6523523993"
   },
   "outputs": [
    {
     "name": "stdout",
     "output_type": "stream",
     "text": [
      "Epoch 1/10\n",
      "60000/60000 [==============================] - 10s 160us/sample - loss: 0.4755 - acc: 0.8295\n",
      "Epoch 2/10\n",
      "60000/60000 [==============================] - 9s 151us/sample - loss: 0.3598 - acc: 0.8680\n",
      "Epoch 3/10\n",
      "60000/60000 [==============================] - 9s 151us/sample - loss: 0.3226 - acc: 0.8816\n",
      "Epoch 4/10\n",
      "60000/60000 [==============================] - 9s 152us/sample - loss: 0.2986 - acc: 0.8900\n",
      "Epoch 5/10\n",
      "60000/60000 [==============================] - 9s 152us/sample - loss: 0.2819 - acc: 0.8963\n",
      "Epoch 6/10\n",
      "59872/60000 [============================>.] - ETA: 0s - loss: 0.2653 - acc: 0.9006\n",
      "Reached 90% accuracy so cancelling training!\n",
      "60000/60000 [==============================] - 9s 151us/sample - loss: 0.2651 - acc: 0.9006\n"
     ]
    },
    {
     "data": {
      "text/plain": [
       "<tensorflow.python.keras.callbacks.History at 0x1a04bdea278>"
      ]
     },
     "execution_count": 3,
     "metadata": {},
     "output_type": "execute_result"
    }
   ],
   "source": [
    "import tensorflow as tf\n",
    "\n",
    "class myCallback(tf.keras.callbacks.Callback):\n",
    "    def on_epoch_end(self, epoch, logs={}):\n",
    "        if(logs.get('acc')>0.9):\n",
    "            print(\"\\nReached 90% accuracy so cancelling training!\")\n",
    "            self.model.stop_training = True\n",
    "\n",
    "mnist = tf.keras.datasets.fashion_mnist\n",
    "\n",
    "(x_train, y_train),(x_test, y_test) = mnist.load_data()\n",
    "x_train, x_test = x_train / 255.0, x_test / 255.0\n",
    "\n",
    "callbacks = myCallback()\n",
    "\n",
    "model = tf.keras.models.Sequential([\n",
    "  tf.keras.layers.Flatten(input_shape=(28, 28)),\n",
    "  tf.keras.layers.Dense(512, activation=tf.nn.relu),\n",
    "  tf.keras.layers.Dense(10, activation=tf.nn.softmax)\n",
    "])\n",
    "model.compile(optimizer='adam',\n",
    "              loss='sparse_categorical_crossentropy',\n",
    "              metrics=['accuracy'])\n",
    "\n",
    "model.fit(x_train, y_train, epochs=10, callbacks=[callbacks])"
   ]
  },
  {
   "cell_type": "code",
   "execution_count": 0,
   "metadata": {
    "colab": {},
    "colab_type": "code",
    "id": "PZIQ21aFQS4q"
   },
   "outputs": [],
   "source": []
  }
 ],
 "metadata": {
  "colab": {
   "collapsed_sections": [],
   "name": "fashionMnistWithCallBackOnAccuracy.ipynb",
   "provenance": [
    {
     "file_id": "https://github.com/lmoroney/dlaicourse/blob/master/Course%201%20-%20Part%204%20-%20Lesson%204%20-%20Notebook.ipynb",
     "timestamp": 1575455800348
    }
   ]
  },
  "kernelspec": {
   "display_name": "Python 3",
   "language": "python",
   "name": "python3"
  },
  "language_info": {
   "codemirror_mode": {
    "name": "ipython",
    "version": 3
   },
   "file_extension": ".py",
   "mimetype": "text/x-python",
   "name": "python",
   "nbconvert_exporter": "python",
   "pygments_lexer": "ipython3",
   "version": "3.7.3"
  }
 },
 "nbformat": 4,
 "nbformat_minor": 1
}
