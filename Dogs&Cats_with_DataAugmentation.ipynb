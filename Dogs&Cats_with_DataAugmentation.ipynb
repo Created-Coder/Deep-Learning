{
 "cells": [
  {
   "cell_type": "markdown",
   "metadata": {},
   "source": [
    "\n",
    "# Using Data Augmentation"
   ]
  },
  {
   "cell_type": "code",
   "execution_count": 3,
   "metadata": {},
   "outputs": [],
   "source": [
    "from tensorflow.keras.models import load_model\n",
    "model = load_model(\"WorkingDirectory_final.h5\")"
   ]
  },
  {
   "cell_type": "code",
   "execution_count": 14,
   "metadata": {},
   "outputs": [],
   "source": [
    "train_dir = \"C:/Users/Salman/Desktop/Desktop/3rd Quarter Books/WorkingDirectory/train\"\n",
    "validation_dir = \"C:/Users/Salman/Desktop/Desktop/3rd Quarter Books/WorkingDirectory/validation\"\n",
    "test_dir = \"C:/Users/Salman/Desktop/Desktop/3rd Quarter Books/WorkingDirectory/test\"\n"
   ]
  },
  {
   "cell_type": "code",
   "execution_count": 2,
   "metadata": {},
   "outputs": [],
   "source": [
    "from tensorflow.keras.preprocessing.image import ImageDataGenerator"
   ]
  },
  {
   "cell_type": "code",
   "execution_count": 4,
   "metadata": {},
   "outputs": [],
   "source": [
    "datagen = ImageDataGenerator(\n",
    "            rotation_range=40,\n",
    "            width_shift_range=0.2,\n",
    "            height_shift_range=0.2,\n",
    "            shear_range=0.2,\n",
    "            zoom_range=0.2,\n",
    "            horizontal_flip=True,\n",
    "            fill_mode='nearest')"
   ]
  },
  {
   "cell_type": "code",
   "execution_count": 5,
   "metadata": {},
   "outputs": [],
   "source": [
    "from tensorflow.keras import layers\n",
    "from tensorflow.keras import models\n",
    "\n",
    "model = models.Sequential()\n",
    "model.add(layers.Conv2D(32, (3, 3), activation='relu',\n",
    "input_shape=(150, 150, 3)))\n",
    "model.add(layers.MaxPooling2D((2, 2)))\n",
    "model.add(layers.Conv2D(64, (3, 3), activation='relu'))\n",
    "model.add(layers.MaxPooling2D((2, 2)))\n",
    "model.add(layers.Conv2D(128, (3, 3), activation='relu'))\n",
    "model.add(layers.MaxPooling2D((2, 2)))\n",
    "model.add(layers.Conv2D(128, (3, 3), activation='relu'))\n",
    "model.add(layers.MaxPooling2D((2, 2)))\n",
    "model.add(layers.Flatten())\n",
    "model.add(layers.Dropout(0.5))\n",
    "model.add(layers.Dense(512, activation='relu'))\n",
    "model.add(layers.Dense(1, activation='sigmoid'))\n",
    "\n"
   ]
  },
  {
   "cell_type": "code",
   "execution_count": 6,
   "metadata": {},
   "outputs": [],
   "source": [
    "from tensorflow.keras import optimizers\n",
    "model.compile(loss='binary_crossentropy',\n",
    "optimizer=optimizers.RMSprop(lr=1e-4),\n",
    "metrics=['acc'])"
   ]
  },
  {
   "cell_type": "code",
   "execution_count": 7,
   "metadata": {},
   "outputs": [],
   "source": [
    "train_datagen = ImageDataGenerator(\n",
    "rescale=1./255,\n",
    "rotation_range=40,\n",
    "width_shift_range=0.2,\n",
    "height_shift_range=0.2,\n",
    "shear_range=0.2,\n",
    "zoom_range=0.2,\n",
    "horizontal_flip=True,)"
   ]
  },
  {
   "cell_type": "code",
   "execution_count": 8,
   "metadata": {},
   "outputs": [],
   "source": [
    "test_datagen = ImageDataGenerator(rescale=1./255)"
   ]
  },
  {
   "cell_type": "code",
   "execution_count": 15,
   "metadata": {},
   "outputs": [
    {
     "name": "stdout",
     "output_type": "stream",
     "text": [
      "Found 2000 images belonging to 2 classes.\n",
      "Found 1000 images belonging to 2 classes.\n"
     ]
    }
   ],
   "source": [
    "train_generator = train_datagen.flow_from_directory(\n",
    "train_dir,\n",
    "target_size=(150, 150),\n",
    "batch_size=32,\n",
    "class_mode='binary')\n",
    "validation_generator = test_datagen.flow_from_directory(\n",
    "validation_dir,\n",
    "target_size=(150, 150),\n",
    "batch_size=32,\n",
    "class_mode='binary')\n"
   ]
  },
  {
   "cell_type": "code",
   "execution_count": 16,
   "metadata": {},
   "outputs": [
    {
     "name": "stdout",
     "output_type": "stream",
     "text": [
      "Epoch 1/100\n",
      "100/100 [==============================] - 440s 4s/step - loss: 0.6916 - acc: 0.5126 - val_loss: 0.6756 - val_acc: 0.5838\n",
      "Epoch 2/100\n",
      "100/100 [==============================] - 612s 6s/step - loss: 0.6785 - acc: 0.5795 - val_loss: 0.6754 - val_acc: 0.5577\n",
      "Epoch 3/100\n",
      "100/100 [==============================] - 600s 6s/step - loss: 0.6665 - acc: 0.5931 - val_loss: 0.6358 - val_acc: 0.6332\n",
      "Epoch 4/100\n",
      "100/100 [==============================] - 597s 6s/step - loss: 0.6351 - acc: 0.6379 - val_loss: 0.7058 - val_acc: 0.5704\n",
      "Epoch 5/100\n",
      "100/100 [==============================] - 598s 6s/step - loss: 0.6264 - acc: 0.6452 - val_loss: 0.5888 - val_acc: 0.6897\n",
      "Epoch 6/100\n",
      "100/100 [==============================] - 604s 6s/step - loss: 0.6176 - acc: 0.6558 - val_loss: 0.5844 - val_acc: 0.6948\n",
      "Epoch 7/100\n",
      "100/100 [==============================] - 600s 6s/step - loss: 0.5949 - acc: 0.6843 - val_loss: 0.5705 - val_acc: 0.6891\n",
      "Epoch 8/100\n",
      "100/100 [==============================] - 603s 6s/step - loss: 0.5963 - acc: 0.6761 - val_loss: 0.5504 - val_acc: 0.7037\n",
      "Epoch 9/100\n",
      "100/100 [==============================] - 592s 6s/step - loss: 0.5845 - acc: 0.6875 - val_loss: 0.5673 - val_acc: 0.6986\n",
      "Epoch 10/100\n",
      "100/100 [==============================] - 596s 6s/step - loss: 0.5852 - acc: 0.6903 - val_loss: 0.5585 - val_acc: 0.6954\n",
      "Epoch 11/100\n",
      "100/100 [==============================] - 591s 6s/step - loss: 0.5747 - acc: 0.7011 - val_loss: 0.5600 - val_acc: 0.7132\n",
      "Epoch 12/100\n",
      "100/100 [==============================] - 600s 6s/step - loss: 0.5720 - acc: 0.6954 - val_loss: 0.6125 - val_acc: 0.6612\n",
      "Epoch 13/100\n",
      "100/100 [==============================] - 603s 6s/step - loss: 0.5561 - acc: 0.7137 - val_loss: 0.5240 - val_acc: 0.7240\n",
      "Epoch 14/100\n",
      "100/100 [==============================] - 60528s 605s/step - loss: 0.5558 - acc: 0.7101 - val_loss: 0.5897 - val_acc: 0.6739\n",
      "Epoch 15/100\n",
      "100/100 [==============================] - 552s 6s/step - loss: 0.5525 - acc: 0.7112 - val_loss: 0.5273 - val_acc: 0.7329\n",
      "Epoch 16/100\n",
      "100/100 [==============================] - 542s 5s/step - loss: 0.5387 - acc: 0.7214 - val_loss: 0.5549 - val_acc: 0.7062\n",
      "Epoch 17/100\n",
      "100/100 [==============================] - 581s 6s/step - loss: 0.5376 - acc: 0.7298 - val_loss: 0.5481 - val_acc: 0.7183\n",
      "Epoch 18/100\n",
      "100/100 [==============================] - 533s 5s/step - loss: 0.5214 - acc: 0.7346 - val_loss: 0.5095 - val_acc: 0.7449\n",
      "Epoch 19/100\n",
      "100/100 [==============================] - 540s 5s/step - loss: 0.5328 - acc: 0.7304 - val_loss: 0.5538 - val_acc: 0.7005\n",
      "Epoch 20/100\n",
      "100/100 [==============================] - 521s 5s/step - loss: 0.5243 - acc: 0.7380 - val_loss: 0.4732 - val_acc: 0.7627\n",
      "Epoch 21/100\n",
      "100/100 [==============================] - 397s 4s/step - loss: 0.5200 - acc: 0.7399 - val_loss: 0.5331 - val_acc: 0.7189\n",
      "Epoch 22/100\n",
      "100/100 [==============================] - 289s 3s/step - loss: 0.5081 - acc: 0.7468 - val_loss: 0.4917 - val_acc: 0.7608\n",
      "Epoch 23/100\n",
      "100/100 [==============================] - 283s 3s/step - loss: 0.5030 - acc: 0.7516 - val_loss: 0.4799 - val_acc: 0.7709\n",
      "Epoch 24/100\n",
      "100/100 [==============================] - 286s 3s/step - loss: 0.5107 - acc: 0.7437 - val_loss: 0.5082 - val_acc: 0.7544\n",
      "Epoch 25/100\n",
      "100/100 [==============================] - 281s 3s/step - loss: 0.4998 - acc: 0.7431 - val_loss: 0.5015 - val_acc: 0.7494\n",
      "Epoch 26/100\n",
      "100/100 [==============================] - 278s 3s/step - loss: 0.5087 - acc: 0.7386 - val_loss: 0.4662 - val_acc: 0.7728\n",
      "Epoch 27/100\n",
      "100/100 [==============================] - 278s 3s/step - loss: 0.5021 - acc: 0.7563 - val_loss: 0.5104 - val_acc: 0.7284\n",
      "Epoch 28/100\n",
      "100/100 [==============================] - 279s 3s/step - loss: 0.5055 - acc: 0.7516 - val_loss: 0.5094 - val_acc: 0.7398\n",
      "Epoch 29/100\n",
      "100/100 [==============================] - 278s 3s/step - loss: 0.4942 - acc: 0.7528 - val_loss: 0.4908 - val_acc: 0.7595\n",
      "Epoch 30/100\n",
      "100/100 [==============================] - 280s 3s/step - loss: 0.4831 - acc: 0.7670 - val_loss: 0.4648 - val_acc: 0.7824\n",
      "Epoch 31/100\n",
      "100/100 [==============================] - 277s 3s/step - loss: 0.4939 - acc: 0.7614 - val_loss: 0.4461 - val_acc: 0.7855\n",
      "Epoch 32/100\n",
      "100/100 [==============================] - 280s 3s/step - loss: 0.4874 - acc: 0.7633 - val_loss: 0.4549 - val_acc: 0.7868\n",
      "Epoch 33/100\n",
      "100/100 [==============================] - 279s 3s/step - loss: 0.4739 - acc: 0.7736 - val_loss: 0.5264 - val_acc: 0.7456\n",
      "Epoch 34/100\n",
      "100/100 [==============================] - 278s 3s/step - loss: 0.4788 - acc: 0.7800 - val_loss: 0.4643 - val_acc: 0.7906\n",
      "Epoch 35/100\n",
      "100/100 [==============================] - 279s 3s/step - loss: 0.4809 - acc: 0.7721 - val_loss: 0.4720 - val_acc: 0.7684\n",
      "Epoch 36/100\n",
      "100/100 [==============================] - 279s 3s/step - loss: 0.4640 - acc: 0.7798 - val_loss: 0.4690 - val_acc: 0.7824\n",
      "Epoch 37/100\n",
      "100/100 [==============================] - 279s 3s/step - loss: 0.4645 - acc: 0.7767 - val_loss: 0.4456 - val_acc: 0.7919\n",
      "Epoch 38/100\n",
      "100/100 [==============================] - 283s 3s/step - loss: 0.4708 - acc: 0.7680 - val_loss: 0.4697 - val_acc: 0.7697\n",
      "Epoch 39/100\n",
      "100/100 [==============================] - 283s 3s/step - loss: 0.4599 - acc: 0.7885 - val_loss: 0.4462 - val_acc: 0.7906\n",
      "Epoch 40/100\n",
      "100/100 [==============================] - 279s 3s/step - loss: 0.4497 - acc: 0.7923 - val_loss: 0.4948 - val_acc: 0.7690\n",
      "Epoch 41/100\n",
      "100/100 [==============================] - 279s 3s/step - loss: 0.4641 - acc: 0.7754 - val_loss: 0.4826 - val_acc: 0.7722\n",
      "Epoch 42/100\n",
      "100/100 [==============================] - 277s 3s/step - loss: 0.4577 - acc: 0.7784 - val_loss: 0.4753 - val_acc: 0.7659\n",
      "Epoch 43/100\n",
      "100/100 [==============================] - 279s 3s/step - loss: 0.4541 - acc: 0.7809 - val_loss: 0.4873 - val_acc: 0.7690\n",
      "Epoch 44/100\n",
      "100/100 [==============================] - 281s 3s/step - loss: 0.4533 - acc: 0.7864 - val_loss: 0.4324 - val_acc: 0.7963\n",
      "Epoch 45/100\n",
      "100/100 [==============================] - 278s 3s/step - loss: 0.4433 - acc: 0.7930 - val_loss: 0.5089 - val_acc: 0.7703\n",
      "Epoch 46/100\n",
      "100/100 [==============================] - 277s 3s/step - loss: 0.4515 - acc: 0.7787 - val_loss: 0.4536 - val_acc: 0.7849\n",
      "Epoch 47/100\n",
      "100/100 [==============================] - 278s 3s/step - loss: 0.4464 - acc: 0.7879 - val_loss: 0.6350 - val_acc: 0.7069\n",
      "Epoch 48/100\n",
      "100/100 [==============================] - 284s 3s/step - loss: 0.4468 - acc: 0.7833 - val_loss: 0.4561 - val_acc: 0.7862\n",
      "Epoch 49/100\n",
      "100/100 [==============================] - 284s 3s/step - loss: 0.4396 - acc: 0.7942 - val_loss: 0.4479 - val_acc: 0.7938\n",
      "Epoch 50/100\n",
      "100/100 [==============================] - 278s 3s/step - loss: 0.4381 - acc: 0.7986 - val_loss: 0.4880 - val_acc: 0.7728\n",
      "Epoch 51/100\n",
      "100/100 [==============================] - 345s 3s/step - loss: 0.4247 - acc: 0.7993 - val_loss: 0.4613 - val_acc: 0.7798\n",
      "Epoch 52/100\n",
      "100/100 [==============================] - 356s 4s/step - loss: 0.4267 - acc: 0.8002 - val_loss: 0.4203 - val_acc: 0.8071\n",
      "Epoch 53/100\n",
      "100/100 [==============================] - 335s 3s/step - loss: 0.4219 - acc: 0.8053 - val_loss: 0.4689 - val_acc: 0.7982\n",
      "Epoch 54/100\n",
      "100/100 [==============================] - 331s 3s/step - loss: 0.4285 - acc: 0.7958 - val_loss: 0.4500 - val_acc: 0.7893\n",
      "Epoch 55/100\n",
      "100/100 [==============================] - 358s 4s/step - loss: 0.4196 - acc: 0.7974 - val_loss: 0.4502 - val_acc: 0.8052\n",
      "Epoch 56/100\n",
      "100/100 [==============================] - 618s 6s/step - loss: 0.4302 - acc: 0.8011 - val_loss: 0.4747 - val_acc: 0.8033\n",
      "Epoch 57/100\n",
      "100/100 [==============================] - 569s 6s/step - loss: 0.4210 - acc: 0.7984 - val_loss: 0.4626 - val_acc: 0.7868\n",
      "Epoch 58/100\n",
      "100/100 [==============================] - 382s 4s/step - loss: 0.4119 - acc: 0.8084 - val_loss: 0.4387 - val_acc: 0.8090\n",
      "Epoch 59/100\n",
      "100/100 [==============================] - 351s 4s/step - loss: 0.4163 - acc: 0.8049 - val_loss: 0.4809 - val_acc: 0.7760\n",
      "Epoch 60/100\n",
      "100/100 [==============================] - 352s 4s/step - loss: 0.4197 - acc: 0.8059 - val_loss: 0.4538 - val_acc: 0.7843\n",
      "Epoch 61/100\n",
      "100/100 [==============================] - 332s 3s/step - loss: 0.4055 - acc: 0.8056 - val_loss: 0.4139 - val_acc: 0.8122\n"
     ]
    },
    {
     "name": "stdout",
     "output_type": "stream",
     "text": [
      "Epoch 62/100\n",
      "100/100 [==============================] - 283s 3s/step - loss: 0.4052 - acc: 0.8134 - val_loss: 0.4530 - val_acc: 0.8242\n",
      "Epoch 63/100\n",
      "100/100 [==============================] - 284s 3s/step - loss: 0.4012 - acc: 0.8226 - val_loss: 0.4762 - val_acc: 0.7690\n",
      "Epoch 64/100\n",
      "100/100 [==============================] - 283s 3s/step - loss: 0.3810 - acc: 0.8263 - val_loss: 0.4610 - val_acc: 0.7843\n",
      "Epoch 65/100\n",
      "100/100 [==============================] - 281s 3s/step - loss: 0.3995 - acc: 0.8166 - val_loss: 0.4344 - val_acc: 0.8109\n",
      "Epoch 66/100\n",
      "100/100 [==============================] - 282s 3s/step - loss: 0.3983 - acc: 0.8185 - val_loss: 0.4205 - val_acc: 0.8052\n",
      "Epoch 67/100\n",
      "100/100 [==============================] - 283s 3s/step - loss: 0.4007 - acc: 0.8194 - val_loss: 0.4072 - val_acc: 0.8255\n",
      "Epoch 68/100\n",
      "100/100 [==============================] - 283s 3s/step - loss: 0.4014 - acc: 0.8169 - val_loss: 0.4205 - val_acc: 0.8154\n",
      "Epoch 69/100\n",
      "100/100 [==============================] - 284s 3s/step - loss: 0.3791 - acc: 0.8285 - val_loss: 0.4331 - val_acc: 0.8115\n",
      "Epoch 70/100\n",
      "100/100 [==============================] - 283s 3s/step - loss: 0.3974 - acc: 0.8198 - val_loss: 0.4350 - val_acc: 0.7970\n",
      "Epoch 71/100\n",
      "100/100 [==============================] - 283s 3s/step - loss: 0.3796 - acc: 0.8311 - val_loss: 0.4250 - val_acc: 0.7970\n",
      "Epoch 72/100\n",
      "100/100 [==============================] - 284s 3s/step - loss: 0.3735 - acc: 0.8348 - val_loss: 0.5104 - val_acc: 0.7532\n",
      "Epoch 73/100\n",
      "100/100 [==============================] - 282s 3s/step - loss: 0.3933 - acc: 0.8283 - val_loss: 0.4569 - val_acc: 0.8147\n",
      "Epoch 74/100\n",
      "100/100 [==============================] - 282s 3s/step - loss: 0.3744 - acc: 0.8346 - val_loss: 0.4618 - val_acc: 0.8185\n",
      "Epoch 75/100\n",
      "100/100 [==============================] - 283s 3s/step - loss: 0.3776 - acc: 0.8235 - val_loss: 0.5106 - val_acc: 0.7678\n",
      "Epoch 76/100\n",
      "100/100 [==============================] - 281s 3s/step - loss: 0.3831 - acc: 0.8327 - val_loss: 0.4839 - val_acc: 0.7640\n",
      "Epoch 77/100\n",
      "100/100 [==============================] - 283s 3s/step - loss: 0.3738 - acc: 0.8354 - val_loss: 0.4017 - val_acc: 0.8319\n",
      "Epoch 78/100\n",
      "100/100 [==============================] - 283s 3s/step - loss: 0.3630 - acc: 0.8349 - val_loss: 0.4139 - val_acc: 0.8179\n",
      "Epoch 79/100\n",
      "100/100 [==============================] - 283s 3s/step - loss: 0.3709 - acc: 0.8357 - val_loss: 0.4503 - val_acc: 0.8154\n",
      "Epoch 80/100\n",
      "100/100 [==============================] - 281s 3s/step - loss: 0.3509 - acc: 0.8428 - val_loss: 0.4096 - val_acc: 0.8141\n",
      "Epoch 81/100\n",
      "100/100 [==============================] - 285s 3s/step - loss: 0.3604 - acc: 0.8430 - val_loss: 0.4023 - val_acc: 0.8312\n",
      "Epoch 82/100\n",
      "100/100 [==============================] - 282s 3s/step - loss: 0.3609 - acc: 0.8447 - val_loss: 0.4166 - val_acc: 0.8103\n",
      "Epoch 83/100\n",
      "100/100 [==============================] - 280s 3s/step - loss: 0.3650 - acc: 0.8365 - val_loss: 0.4328 - val_acc: 0.8280\n",
      "Epoch 84/100\n",
      "100/100 [==============================] - 282s 3s/step - loss: 0.3506 - acc: 0.8464 - val_loss: 0.4852 - val_acc: 0.8008\n",
      "Epoch 85/100\n",
      "100/100 [==============================] - 282s 3s/step - loss: 0.3622 - acc: 0.8346 - val_loss: 0.4914 - val_acc: 0.7811\n",
      "Epoch 86/100\n",
      "100/100 [==============================] - 283s 3s/step - loss: 0.3499 - acc: 0.8420 - val_loss: 0.4883 - val_acc: 0.7874\n",
      "Epoch 87/100\n",
      "100/100 [==============================] - 281s 3s/step - loss: 0.3564 - acc: 0.8407 - val_loss: 0.6055 - val_acc: 0.7456\n",
      "Epoch 88/100\n",
      "100/100 [==============================] - 282s 3s/step - loss: 0.3456 - acc: 0.8430 - val_loss: 0.4790 - val_acc: 0.7887\n",
      "Epoch 89/100\n",
      "100/100 [==============================] - 285s 3s/step - loss: 0.3512 - acc: 0.8423 - val_loss: 0.4614 - val_acc: 0.8242\n",
      "Epoch 90/100\n",
      "100/100 [==============================] - 283s 3s/step - loss: 0.3528 - acc: 0.8428 - val_loss: 0.4533 - val_acc: 0.8090\n",
      "Epoch 91/100\n",
      "100/100 [==============================] - 286s 3s/step - loss: 0.3546 - acc: 0.8430 - val_loss: 0.4479 - val_acc: 0.8198\n",
      "Epoch 92/100\n",
      "100/100 [==============================] - 283s 3s/step - loss: 0.3439 - acc: 0.8475 - val_loss: 0.3891 - val_acc: 0.8255\n",
      "Epoch 93/100\n",
      "100/100 [==============================] - 284s 3s/step - loss: 0.3413 - acc: 0.8430 - val_loss: 0.4066 - val_acc: 0.8236\n",
      "Epoch 94/100\n",
      "100/100 [==============================] - 283s 3s/step - loss: 0.3422 - acc: 0.8491 - val_loss: 0.3950 - val_acc: 0.8312\n",
      "Epoch 95/100\n",
      "100/100 [==============================] - 282s 3s/step - loss: 0.3375 - acc: 0.8479 - val_loss: 0.4413 - val_acc: 0.8008\n",
      "Epoch 96/100\n",
      "100/100 [==============================] - 284s 3s/step - loss: 0.3364 - acc: 0.8580 - val_loss: 0.3963 - val_acc: 0.8179\n",
      "Epoch 97/100\n",
      "100/100 [==============================] - 282s 3s/step - loss: 0.3308 - acc: 0.8595 - val_loss: 0.4834 - val_acc: 0.7963\n",
      "Epoch 98/100\n",
      "100/100 [==============================] - 284s 3s/step - loss: 0.3396 - acc: 0.8456 - val_loss: 0.6624 - val_acc: 0.7754\n",
      "Epoch 99/100\n",
      "100/100 [==============================] - 283s 3s/step - loss: 0.3350 - acc: 0.8485 - val_loss: 0.3783 - val_acc: 0.8363\n",
      "Epoch 100/100\n",
      "100/100 [==============================] - 284s 3s/step - loss: 0.3244 - acc: 0.8555 - val_loss: 0.3762 - val_acc: 0.8388\n"
     ]
    }
   ],
   "source": [
    "history = model.fit_generator(\n",
    "train_generator,\n",
    "steps_per_epoch=100,\n",
    "epochs=100,\n",
    "validation_data=validation_generator,\n",
    "validation_steps=50)"
   ]
  },
  {
   "cell_type": "code",
   "execution_count": 17,
   "metadata": {},
   "outputs": [],
   "source": [
    "model.save(\"Dogs&Cat_with_Data_Augmentation.h5\")"
   ]
  },
  {
   "cell_type": "markdown",
   "metadata": {},
   "source": [
    "# Acheive 83 % Accuracy with Data Augmentation "
   ]
  },
  {
   "cell_type": "code",
   "execution_count": null,
   "metadata": {},
   "outputs": [],
   "source": []
  }
 ],
 "metadata": {
  "kernelspec": {
   "display_name": "Python 3",
   "language": "python",
   "name": "python3"
  },
  "language_info": {
   "codemirror_mode": {
    "name": "ipython",
    "version": 3
   },
   "file_extension": ".py",
   "mimetype": "text/x-python",
   "name": "python",
   "nbconvert_exporter": "python",
   "pygments_lexer": "ipython3",
   "version": "3.7.3"
  }
 },
 "nbformat": 4,
 "nbformat_minor": 2
}
